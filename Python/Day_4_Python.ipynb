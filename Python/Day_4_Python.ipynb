{
  "nbformat": 4,
  "nbformat_minor": 0,
  "metadata": {
    "colab": {
      "provenance": []
    },
    "kernelspec": {
      "name": "python3",
      "display_name": "Python 3"
    },
    "language_info": {
      "name": "python"
    }
  },
  "cells": [
    {
      "cell_type": "code",
      "execution_count": 4,
      "metadata": {
        "colab": {
          "base_uri": "https://localhost:8080/"
        },
        "id": "kGHThEoJmZ-b",
        "outputId": "95a13c43-a072-4a83-8d7a-cb82cfab8112"
      },
      "outputs": [
        {
          "output_type": "stream",
          "name": "stdout",
          "text": [
            "the squared number is: 625\n"
          ]
        },
        {
          "output_type": "execute_result",
          "data": {
            "text/plain": [
              "625"
            ]
          },
          "metadata": {},
          "execution_count": 4
        }
      ],
      "source": [
        "# we are going to see how to use Functions in Python\n",
        "\n",
        "# Lambda function\n",
        "\n",
        "def square(num):\n",
        "\n",
        "  \"\"\"\n",
        "  Square function takes in a number and returns the square of that number\n",
        "\n",
        "  Params:\n",
        "  num: number to be squared\n",
        "\n",
        "  returns : Squared Integer\n",
        "\n",
        "  \"\"\"\n",
        "  a = num*num\n",
        "  print(\"the squared number is:\",a)\n",
        "  return  a\n",
        "\n",
        "square(25)\n"
      ]
    },
    {
      "cell_type": "code",
      "source": [
        "square?"
      ],
      "metadata": {
        "id": "EFx2l1P9mtO2"
      },
      "execution_count": 5,
      "outputs": []
    },
    {
      "cell_type": "code",
      "source": [
        "#modulus and quotient\n",
        "\n",
        "# % - remainder of any division\n",
        "# // - GIve you the Quotient\n",
        "\n",
        "print(75%9)\n",
        "\n",
        "print(75//9)"
      ],
      "metadata": {
        "colab": {
          "base_uri": "https://localhost:8080/"
        },
        "id": "RI9N8BWTmtRH",
        "outputId": "79794b4c-c2d2-4959-d646-5f284de52f48"
      },
      "execution_count": 7,
      "outputs": [
        {
          "output_type": "stream",
          "name": "stdout",
          "text": [
            "3\n",
            "8\n"
          ]
        }
      ]
    },
    {
      "cell_type": "code",
      "source": [
        "#Normal Division\n",
        "75/9"
      ],
      "metadata": {
        "colab": {
          "base_uri": "https://localhost:8080/"
        },
        "id": "NCG17s1DmtTh",
        "outputId": "efd94393-fa81-4ce9-ade2-1afe6f022166"
      },
      "execution_count": 8,
      "outputs": [
        {
          "output_type": "execute_result",
          "data": {
            "text/plain": [
              "8.333333333333334"
            ]
          },
          "metadata": {},
          "execution_count": 8
        }
      ]
    },
    {
      "cell_type": "code",
      "source": [
        "lst =[1,2,6,4,5,4,5,7,8,2,4,5]\n",
        "#i want to sort and get the even numbers from the list . Write a function to do this .\n",
        "\n",
        "# Pesuedo code\n",
        "# define a function\n",
        "# Iterate all the elements in a For loop and perfomr the below steps\n",
        "# Divide by 2 and get the Remiander = 0\n",
        "# find those elements in the list and then add them to a seperate list\n",
        "# return the List\n",
        "\n",
        "def returnsortedEven(lst):\n",
        "  new_list =[]\n",
        "  for i in lst:\n",
        "      if i%2==0:\n",
        "        new_list.append(i)\n",
        "      new_list.sort()\n",
        "  return new_list\n",
        "\n",
        "returnsortedEven(lst)\n",
        ""
      ],
      "metadata": {
        "colab": {
          "base_uri": "https://localhost:8080/"
        },
        "id": "_0OnohoPmtWS",
        "outputId": "3a5c76ff-5356-4b94-d7d5-2f07d09a6586"
      },
      "execution_count": 12,
      "outputs": [
        {
          "output_type": "execute_result",
          "data": {
            "text/plain": [
              "[2, 2, 4, 4, 4, 6, 8]"
            ]
          },
          "metadata": {},
          "execution_count": 12
        }
      ]
    },
    {
      "cell_type": "code",
      "source": [
        "def returnsortedEven(lst):\n",
        "  new_list =[]\n",
        "  for i in lst:\n",
        "      if i%2==0:\n",
        "        new_list.append(i)\n",
        "      s = set(new_list)\n",
        "      new_list = list(s)\n",
        "      new_list.sort()\n",
        "  return new_list\n",
        "\n",
        "returnsortedEven(lst)"
      ],
      "metadata": {
        "colab": {
          "base_uri": "https://localhost:8080/"
        },
        "id": "5V7fFkN7mtZv",
        "outputId": "aa7d96bc-4094-4e75-d19c-c3fb93910d97"
      },
      "execution_count": 14,
      "outputs": [
        {
          "output_type": "execute_result",
          "data": {
            "text/plain": [
              "[2, 4, 6, 8]"
            ]
          },
          "metadata": {},
          "execution_count": 14
        }
      ]
    },
    {
      "cell_type": "code",
      "source": [
        "lst =[1,2,6,4,5,4,5,7,8,2,4,5,9]\n",
        "#your homework\n",
        "# sort the numbers of Odd numbers and then remove duplicates\n"
      ],
      "metadata": {
        "id": "GKzXz_7vmtbM"
      },
      "execution_count": null,
      "outputs": []
    },
    {
      "cell_type": "code",
      "source": [
        "for i in range(0,10,2):\n",
        "  print(i)\n"
      ],
      "metadata": {
        "colab": {
          "base_uri": "https://localhost:8080/"
        },
        "id": "nPwjonGXmtfQ",
        "outputId": "8715f06f-d4ce-40bf-a54a-06c3e74d5d75"
      },
      "execution_count": 17,
      "outputs": [
        {
          "output_type": "stream",
          "name": "stdout",
          "text": [
            "0\n",
            "2\n",
            "4\n",
            "6\n",
            "8\n"
          ]
        }
      ]
    },
    {
      "cell_type": "code",
      "source": [
        "#genarting Random Numbers\n",
        "import random\n",
        "#integer\n",
        "random_integer = random.randint(0,100)\n",
        "print(random_integer)\n",
        "\n",
        "#float\n",
        "print(random.random())\n",
        "\n",
        "#float specific range\n",
        "print(random.uniform(1.5,5.5))\n",
        "\n",
        "#random number from a normal Distribution\n",
        "random_normal = random.gauss(mu=0,sigma=2)\n",
        "print(random_normal)\n",
        "\n",
        "#randomly choosing from a list\n",
        "fruits = ['apple', 'banana', 'cherry', 'date', 'elderberry']\n",
        "print(random.choice(fruits))\n",
        "\n",
        "\n",
        "\n",
        "fruits = ['apple', 'banana', 'cherry', 'date', 'elderberry']\n",
        "fruits1 = fruits[-3:]\n",
        "print(fruits1)\n",
        "print(random.choices(fruits,k=2))\n",
        "#raodnomly generate a list of random numbers\n",
        "\n",
        "#randomly generate the numbers in a range\n",
        "random.sample(range(1,101),5)"
      ],
      "metadata": {
        "colab": {
          "base_uri": "https://localhost:8080/"
        },
        "id": "dW5DpUuAmtju",
        "outputId": "f0dcdddc-6c3c-4010-8f29-83f27b2f7cb1"
      },
      "execution_count": 39,
      "outputs": [
        {
          "output_type": "stream",
          "name": "stdout",
          "text": [
            "76\n",
            "0.6284659205239158\n",
            "2.9198876340177073\n",
            "-0.6998963485364341\n",
            "banana\n",
            "['cherry', 'date', 'elderberry']\n",
            "['banana', 'date']\n"
          ]
        },
        {
          "output_type": "execute_result",
          "data": {
            "text/plain": [
              "[42, 66, 38, 16, 68]"
            ]
          },
          "metadata": {},
          "execution_count": 39
        }
      ]
    },
    {
      "cell_type": "code",
      "source": [
        "#Lamda Function\n",
        "def add_ten(nmumber):\n",
        "  num = number+10\n",
        "  return num"
      ],
      "metadata": {
        "id": "k1vhGvb6mtmY"
      },
      "execution_count": 40,
      "outputs": []
    },
    {
      "cell_type": "code",
      "source": [
        "add_ten_lambda = lambda x:x+10\n",
        "\n",
        "print(add_ten_lambda(5))"
      ],
      "metadata": {
        "colab": {
          "base_uri": "https://localhost:8080/"
        },
        "id": "AFa8g4nomtoy",
        "outputId": "bdd93e30-9c31-4f76-cf7a-b5c74d107332"
      },
      "execution_count": 41,
      "outputs": [
        {
          "output_type": "stream",
          "name": "stdout",
          "text": [
            "15\n"
          ]
        }
      ]
    },
    {
      "cell_type": "code",
      "source": [
        "# Filter funciton in Lambda to filter the numbers\n",
        "\n",
        "numbers = [1,2,3,4,5,6,7,8,9,10]\n",
        "even_numbers = list(filter(lambda x:x%2==0,numbers))\n",
        "print(even_numbers)\n",
        "\n"
      ],
      "metadata": {
        "colab": {
          "base_uri": "https://localhost:8080/"
        },
        "id": "Pu1ccfPrmtuE",
        "outputId": "b0e02c49-7e13-445c-f87d-12e6c4dbd1bb"
      },
      "execution_count": 42,
      "outputs": [
        {
          "output_type": "stream",
          "name": "stdout",
          "text": [
            "[2, 4, 6, 8, 10]\n"
          ]
        }
      ]
    },
    {
      "cell_type": "code",
      "source": [
        "#mutiply two numbers using Lambda is your Homework"
      ],
      "metadata": {
        "id": "vowxpeLemtw4"
      },
      "execution_count": null,
      "outputs": []
    },
    {
      "cell_type": "code",
      "source": [
        "# map function - is to map the elememts in a list for perfomring any operations\n",
        "numbers = [1,2,3,4,5,6,7,8,9,10]\n",
        "squared_numbers = list(map(lambda x:x**2,numbers))\n",
        "\n",
        "print(squared_numbers)\n",
        "\n"
      ],
      "metadata": {
        "colab": {
          "base_uri": "https://localhost:8080/"
        },
        "id": "IBQC1_9xmtzu",
        "outputId": "7d5cc388-f62b-40a3-e599-803e2b8959ca"
      },
      "execution_count": 47,
      "outputs": [
        {
          "output_type": "stream",
          "name": "stdout",
          "text": [
            "[1, 4, 9, 16, 25, 36, 49, 64, 81, 100]\n"
          ]
        }
      ]
    },
    {
      "cell_type": "code",
      "source": [],
      "metadata": {
        "id": "sq_5yAksmt1j"
      },
      "execution_count": null,
      "outputs": []
    },
    {
      "cell_type": "code",
      "source": [],
      "metadata": {
        "id": "p6lgkaZAmt30"
      },
      "execution_count": null,
      "outputs": []
    },
    {
      "cell_type": "code",
      "source": [],
      "metadata": {
        "id": "53gB7mFQmt5q"
      },
      "execution_count": null,
      "outputs": []
    },
    {
      "cell_type": "code",
      "source": [],
      "metadata": {
        "id": "nmXrAGg6mt8T"
      },
      "execution_count": null,
      "outputs": []
    },
    {
      "cell_type": "code",
      "source": [],
      "metadata": {
        "id": "UVFo_QBQmt-n"
      },
      "execution_count": null,
      "outputs": []
    },
    {
      "cell_type": "code",
      "source": [],
      "metadata": {
        "id": "OkFIXwoLmuBn"
      },
      "execution_count": null,
      "outputs": []
    },
    {
      "cell_type": "code",
      "source": [],
      "metadata": {
        "id": "wNv2avOKmuG6"
      },
      "execution_count": null,
      "outputs": []
    },
    {
      "cell_type": "code",
      "source": [],
      "metadata": {
        "id": "cS_7JSPrmuIt"
      },
      "execution_count": null,
      "outputs": []
    },
    {
      "cell_type": "code",
      "source": [],
      "metadata": {
        "id": "e4LH8BkamuKx"
      },
      "execution_count": null,
      "outputs": []
    },
    {
      "cell_type": "code",
      "source": [],
      "metadata": {
        "id": "5Q0zWuISmuNz"
      },
      "execution_count": null,
      "outputs": []
    },
    {
      "cell_type": "code",
      "source": [],
      "metadata": {
        "id": "phuf58nUmuRU"
      },
      "execution_count": null,
      "outputs": []
    }
  ]
}