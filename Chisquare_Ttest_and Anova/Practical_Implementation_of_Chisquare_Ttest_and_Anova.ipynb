{
  "nbformat": 4,
  "nbformat_minor": 0,
  "metadata": {
    "colab": {
      "provenance": []
    },
    "kernelspec": {
      "name": "python3",
      "display_name": "Python 3"
    },
    "language_info": {
      "name": "python"
    }
  },
  "cells": [
    {
      "cell_type": "code",
      "execution_count": null,
      "metadata": {
        "id": "ut7PV3nOHCCF"
      },
      "outputs": [],
      "source": [
        "# code to implement Anova, T test and Chi square test\n",
        "\n",
        "import pandas as pd\n",
        "import numpy as np\n",
        "from scipy import stats\n",
        "from sklearn.datasets import fetch_openml\n",
        "\n",
        "# Load Titanic dataset\n",
        "titanic = fetch_openml('titanic', version=1, as_frame=True)\n",
        "df = titanic.frame\n",
        "\n",
        "# Quick look\n",
        "print(df.head())\n",
        "\n",
        "# Cleaning a bit\n",
        "df = df[['pclass', 'sex', 'age', 'fare', 'survived']]\n",
        "df.dropna(inplace=True)\n",
        "\n",
        "# ---------------------\n",
        "# 1. T-TEST: Compare age of people who survived vs not survived\n",
        "# ---------------------\n",
        "survived = df[df['survived'] == '1']['age']\n",
        "not_survived = df[df['survived'] == '0']['age']\n",
        "\n",
        "t_stat, p_val = stats.ttest_ind(survived, not_survived)\n",
        "print(\"\\n🔵 T-TEST: Age difference between Survived vs Not Survived\")\n",
        "print(f\"T-statistic: {t_stat:.4f}, P-value: {p_val:.4f}\")\n",
        "\n",
        "# Interpretation\n",
        "if p_val < 0.05:\n",
        "    print(\"➡️ Significant difference in age between groups\")\n",
        "else:\n",
        "    print(\"➡️ No significant difference in age between groups\")\n",
        "\n",
        "# ---------------------\n",
        "# 2. CHI-SQUARE TEST: Relationship between Sex and Survival\n",
        "# ---------------------\n",
        "contingency_table = pd.crosstab(df['sex'], df['survived'])\n",
        "\n",
        "chi2, p, dof, expected = stats.chi2_contingency(contingency_table)\n",
        "\n",
        "print(\"\\n🟠 CHI-SQUARE TEST: Sex vs Survival\")\n",
        "print(f\"Chi2 Statistic: {chi2:.4f}, P-value: {p:.4f}\")\n",
        "\n",
        "# Interpretation\n",
        "if p < 0.05:\n",
        "    print(\"➡️ Sex and Survival are dependent (related)\")\n",
        "else:\n",
        "    print(\"➡️ Sex and Survival are independent (not related)\")\n",
        "\n",
        "# ---------------------\n",
        "# 3. ANOVA: Check if average Fare differs across Pclass (Ticket class)\n",
        "# ---------------------\n",
        "pclass1 = df[df['pclass'] == '1']['fare']\n",
        "pclass2 = df[df['pclass'] == '2']['fare']\n",
        "pclass3 = df[df['pclass'] == '3']['fare']\n",
        "\n",
        "f_stat, p_val_anova = stats.f_oneway(pclass1, pclass2, pclass3)\n",
        "print(\"\\n🟢 ANOVA: Fare comparison across Pclass\")\n",
        "print(f\"F-statistic: {f_stat:.4f}, P-value: {p_val_anova:.4f}\")\n",
        "\n",
        "# Interpretation\n",
        "if p_val_anova < 0.05:\n",
        "    print(\"➡️ Significant difference in fare across classes\")\n",
        "else:\n",
        "    print(\"➡️ No significant difference in fare across classes\")\n"
      ]
    }
  ]
}